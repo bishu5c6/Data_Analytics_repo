{
 "cells": [
  {
   "cell_type": "code",
   "execution_count": 3,
   "id": "5449c8ce",
   "metadata": {},
   "outputs": [],
   "source": [
    "import pandas as pd\n",
    "import numpy as np\n",
    "import requests\n",
    "import json"
   ]
  },
  {
   "cell_type": "code",
   "execution_count": 4,
   "id": "a3e9a7b7",
   "metadata": {},
   "outputs": [
    {
     "name": "stdout",
     "output_type": "stream",
     "text": [
      "{'message': 'You are not subscribed to this API.'}\n"
     ]
    }
   ],
   "source": [
    "url = \"https://basketball-highlights-api.p.rapidapi.com/countries\"\n",
    "\n",
    "querystring = {\"query\":\"Phone\",\"page\":\"1\",\"country\":\"US\"}\n",
    "\n",
    "headers = {\n",
    "\t\"X-RapidAPI-Key\": \"SIGN-UP-FOR-KEY\",\n",
    "\t\"X-RapidAPI-Host\": \"real-time-amazon-data.p.rapidapi.com\"\n",
    "}\n",
    "\n",
    "response = requests.get(url, headers=headers, params=querystring)\n",
    "\n",
    "print(response.json())"
   ]
  },
  {
   "cell_type": "code",
   "execution_count": 4,
   "id": "a011c02e",
   "metadata": {},
   "outputs": [],
   "source": [
    "df = pd.read_excel('Air_BNB.xlsx')"
   ]
  },
  {
   "cell_type": "code",
   "execution_count": 5,
   "id": "4dcaa3a3",
   "metadata": {},
   "outputs": [
    {
     "data": {
      "text/html": [
       "<div>\n",
       "<style scoped>\n",
       "    .dataframe tbody tr th:only-of-type {\n",
       "        vertical-align: middle;\n",
       "    }\n",
       "\n",
       "    .dataframe tbody tr th {\n",
       "        vertical-align: top;\n",
       "    }\n",
       "\n",
       "    .dataframe thead th {\n",
       "        text-align: right;\n",
       "    }\n",
       "</style>\n",
       "<table border=\"1\" class=\"dataframe\">\n",
       "  <thead>\n",
       "    <tr style=\"text-align: right;\">\n",
       "      <th></th>\n",
       "      <th>id</th>\n",
       "      <th>room_type</th>\n",
       "      <th>accommodates</th>\n",
       "      <th>bathrooms</th>\n",
       "      <th>cancellation_policy</th>\n",
       "      <th>cleaning_fee</th>\n",
       "      <th>instant_bookable</th>\n",
       "      <th>review_scores_rating</th>\n",
       "      <th>bedrooms</th>\n",
       "      <th>beds</th>\n",
       "      <th>log_price</th>\n",
       "    </tr>\n",
       "  </thead>\n",
       "  <tbody>\n",
       "    <tr>\n",
       "      <th>0</th>\n",
       "      <td>6901257</td>\n",
       "      <td>Entire home/apt</td>\n",
       "      <td>3.0</td>\n",
       "      <td>1.0</td>\n",
       "      <td>strict</td>\n",
       "      <td>1.0</td>\n",
       "      <td>f</td>\n",
       "      <td>100.0</td>\n",
       "      <td>1.0</td>\n",
       "      <td>1.0</td>\n",
       "      <td>5.010635</td>\n",
       "    </tr>\n",
       "    <tr>\n",
       "      <th>1</th>\n",
       "      <td>6304928</td>\n",
       "      <td>Entire home/apt</td>\n",
       "      <td>7.0</td>\n",
       "      <td>1.0</td>\n",
       "      <td>strict</td>\n",
       "      <td>1.0</td>\n",
       "      <td>t</td>\n",
       "      <td>93.0</td>\n",
       "      <td>3.0</td>\n",
       "      <td>3.0</td>\n",
       "      <td>5.129899</td>\n",
       "    </tr>\n",
       "    <tr>\n",
       "      <th>2</th>\n",
       "      <td>7919400</td>\n",
       "      <td>Entire home/apt</td>\n",
       "      <td>5.0</td>\n",
       "      <td>1.0</td>\n",
       "      <td>moderate</td>\n",
       "      <td>1.0</td>\n",
       "      <td>t</td>\n",
       "      <td>92.0</td>\n",
       "      <td>1.0</td>\n",
       "      <td>3.0</td>\n",
       "      <td>4.976734</td>\n",
       "    </tr>\n",
       "    <tr>\n",
       "      <th>3</th>\n",
       "      <td>13418779</td>\n",
       "      <td>Entire home/apt</td>\n",
       "      <td>4.0</td>\n",
       "      <td>1.0</td>\n",
       "      <td>flexible</td>\n",
       "      <td>1.0</td>\n",
       "      <td>f</td>\n",
       "      <td>NaN</td>\n",
       "      <td>2.0</td>\n",
       "      <td>2.0</td>\n",
       "      <td>6.620073</td>\n",
       "    </tr>\n",
       "    <tr>\n",
       "      <th>4</th>\n",
       "      <td>3808709</td>\n",
       "      <td>Entire home/apt</td>\n",
       "      <td>2.0</td>\n",
       "      <td>1.0</td>\n",
       "      <td>moderate</td>\n",
       "      <td>1.0</td>\n",
       "      <td>t</td>\n",
       "      <td>40.0</td>\n",
       "      <td>0.0</td>\n",
       "      <td>1.0</td>\n",
       "      <td>4.744932</td>\n",
       "    </tr>\n",
       "    <tr>\n",
       "      <th>5</th>\n",
       "      <td>12422935</td>\n",
       "      <td>Private room</td>\n",
       "      <td>2.0</td>\n",
       "      <td>1.0</td>\n",
       "      <td>strict</td>\n",
       "      <td>1.0</td>\n",
       "      <td>t</td>\n",
       "      <td>100.0</td>\n",
       "      <td>1.0</td>\n",
       "      <td>1.0</td>\n",
       "      <td>4.442651</td>\n",
       "    </tr>\n",
       "    <tr>\n",
       "      <th>6</th>\n",
       "      <td>11825529</td>\n",
       "      <td>Entire home/apt</td>\n",
       "      <td>3.0</td>\n",
       "      <td>1.0</td>\n",
       "      <td>moderate</td>\n",
       "      <td>1.0</td>\n",
       "      <td>t</td>\n",
       "      <td>97.0</td>\n",
       "      <td>1.0</td>\n",
       "      <td>1.0</td>\n",
       "      <td>4.418841</td>\n",
       "    </tr>\n",
       "    <tr>\n",
       "      <th>7</th>\n",
       "      <td>13971273</td>\n",
       "      <td>Entire home/apt</td>\n",
       "      <td>2.0</td>\n",
       "      <td>1.0</td>\n",
       "      <td>moderate</td>\n",
       "      <td>1.0</td>\n",
       "      <td>f</td>\n",
       "      <td>93.0</td>\n",
       "      <td>1.0</td>\n",
       "      <td>1.0</td>\n",
       "      <td>4.787492</td>\n",
       "    </tr>\n",
       "    <tr>\n",
       "      <th>8</th>\n",
       "      <td>180792</td>\n",
       "      <td>Private room</td>\n",
       "      <td>2.0</td>\n",
       "      <td>1.0</td>\n",
       "      <td>moderate</td>\n",
       "      <td>1.0</td>\n",
       "      <td>f</td>\n",
       "      <td>99.0</td>\n",
       "      <td>1.0</td>\n",
       "      <td>1.0</td>\n",
       "      <td>4.787492</td>\n",
       "    </tr>\n",
       "    <tr>\n",
       "      <th>9</th>\n",
       "      <td>5385260</td>\n",
       "      <td>Private room</td>\n",
       "      <td>2.0</td>\n",
       "      <td>1.0</td>\n",
       "      <td>moderate</td>\n",
       "      <td>1.0</td>\n",
       "      <td>t</td>\n",
       "      <td>90.0</td>\n",
       "      <td>1.0</td>\n",
       "      <td>1.0</td>\n",
       "      <td>3.583519</td>\n",
       "    </tr>\n",
       "  </tbody>\n",
       "</table>\n",
       "</div>"
      ],
      "text/plain": [
       "         id        room_type  accommodates  bathrooms cancellation_policy   \n",
       "0   6901257  Entire home/apt           3.0        1.0              strict  \\\n",
       "1   6304928  Entire home/apt           7.0        1.0              strict   \n",
       "2   7919400  Entire home/apt           5.0        1.0            moderate   \n",
       "3  13418779  Entire home/apt           4.0        1.0            flexible   \n",
       "4   3808709  Entire home/apt           2.0        1.0            moderate   \n",
       "5  12422935     Private room           2.0        1.0              strict   \n",
       "6  11825529  Entire home/apt           3.0        1.0            moderate   \n",
       "7  13971273  Entire home/apt           2.0        1.0            moderate   \n",
       "8    180792     Private room           2.0        1.0            moderate   \n",
       "9   5385260     Private room           2.0        1.0            moderate   \n",
       "\n",
       "   cleaning_fee instant_bookable  review_scores_rating  bedrooms  beds   \n",
       "0           1.0                f                 100.0       1.0   1.0  \\\n",
       "1           1.0                t                  93.0       3.0   3.0   \n",
       "2           1.0                t                  92.0       1.0   3.0   \n",
       "3           1.0                f                   NaN       2.0   2.0   \n",
       "4           1.0                t                  40.0       0.0   1.0   \n",
       "5           1.0                t                 100.0       1.0   1.0   \n",
       "6           1.0                t                  97.0       1.0   1.0   \n",
       "7           1.0                f                  93.0       1.0   1.0   \n",
       "8           1.0                f                  99.0       1.0   1.0   \n",
       "9           1.0                t                  90.0       1.0   1.0   \n",
       "\n",
       "   log_price  \n",
       "0   5.010635  \n",
       "1   5.129899  \n",
       "2   4.976734  \n",
       "3   6.620073  \n",
       "4   4.744932  \n",
       "5   4.442651  \n",
       "6   4.418841  \n",
       "7   4.787492  \n",
       "8   4.787492  \n",
       "9   3.583519  "
      ]
     },
     "execution_count": 5,
     "metadata": {},
     "output_type": "execute_result"
    }
   ],
   "source": [
    "df.head(10)"
   ]
  },
  {
   "cell_type": "code",
   "execution_count": 6,
   "id": "3deb18b2",
   "metadata": {},
   "outputs": [
    {
     "data": {
      "text/plain": [
       "102479.0285827062"
      ]
     },
     "execution_count": 6,
     "metadata": {},
     "output_type": "execute_result"
    }
   ],
   "source": [
    "10**5.010635"
   ]
  },
  {
   "cell_type": "code",
   "execution_count": 10,
   "id": "2dbb8be7",
   "metadata": {},
   "outputs": [
    {
     "name": "stdout",
     "output_type": "stream",
     "text": [
      "No. of Rows : 74111\n",
      "No. of Columns : 11\n"
     ]
    }
   ],
   "source": [
    "print(\"No. of Rows :\",df.shape[0])\n",
    "print(\"No. of Columns :\",df.shape[1])"
   ]
  },
  {
   "cell_type": "code",
   "execution_count": 17,
   "id": "7b86b9e9",
   "metadata": {},
   "outputs": [
    {
     "name": "stdout",
     "output_type": "stream",
     "text": [
      "<class 'pandas.core.frame.DataFrame'>\n",
      "RangeIndex: 74111 entries, 0 to 74110\n",
      "Data columns (total 11 columns):\n",
      " #   Column                Non-Null Count  Dtype  \n",
      "---  ------                --------------  -----  \n",
      " 0   id                    74111 non-null  int64  \n",
      " 1   room_type             74106 non-null  object \n",
      " 2   accommodates          74108 non-null  float64\n",
      " 3   bathrooms             73908 non-null  float64\n",
      " 4   cancellation_policy   74103 non-null  object \n",
      " 5   cleaning_fee          74107 non-null  float64\n",
      " 6   instant_bookable      74111 non-null  object \n",
      " 7   review_scores_rating  57389 non-null  float64\n",
      " 8   bedrooms              74019 non-null  float64\n",
      " 9   beds                  73980 non-null  float64\n",
      " 10  log_price             74111 non-null  float64\n",
      "dtypes: float64(7), int64(1), object(3)\n",
      "memory usage: 6.2+ MB\n"
     ]
    }
   ],
   "source": [
    "df.info()"
   ]
  },
  {
   "cell_type": "code",
   "execution_count": 23,
   "id": "82d479af",
   "metadata": {},
   "outputs": [
    {
     "data": {
      "text/html": [
       "<div>\n",
       "<style scoped>\n",
       "    .dataframe tbody tr th:only-of-type {\n",
       "        vertical-align: middle;\n",
       "    }\n",
       "\n",
       "    .dataframe tbody tr th {\n",
       "        vertical-align: top;\n",
       "    }\n",
       "\n",
       "    .dataframe thead th {\n",
       "        text-align: right;\n",
       "    }\n",
       "</style>\n",
       "<table border=\"1\" class=\"dataframe\">\n",
       "  <thead>\n",
       "    <tr style=\"text-align: right;\">\n",
       "      <th></th>\n",
       "      <th>count</th>\n",
       "      <th>mean</th>\n",
       "      <th>std</th>\n",
       "      <th>min</th>\n",
       "      <th>25%</th>\n",
       "      <th>50%</th>\n",
       "      <th>75%</th>\n",
       "      <th>max</th>\n",
       "    </tr>\n",
       "  </thead>\n",
       "  <tbody>\n",
       "    <tr>\n",
       "      <th>accommodates</th>\n",
       "      <td>74108.0</td>\n",
       "      <td>3.16</td>\n",
       "      <td>2.15</td>\n",
       "      <td>1.0</td>\n",
       "      <td>2.00</td>\n",
       "      <td>2.00</td>\n",
       "      <td>4.00</td>\n",
       "      <td>16.0</td>\n",
       "    </tr>\n",
       "    <tr>\n",
       "      <th>bathrooms</th>\n",
       "      <td>73908.0</td>\n",
       "      <td>1.24</td>\n",
       "      <td>0.58</td>\n",
       "      <td>0.0</td>\n",
       "      <td>1.00</td>\n",
       "      <td>1.00</td>\n",
       "      <td>1.00</td>\n",
       "      <td>8.0</td>\n",
       "    </tr>\n",
       "    <tr>\n",
       "      <th>cleaning_fee</th>\n",
       "      <td>74107.0</td>\n",
       "      <td>0.73</td>\n",
       "      <td>0.44</td>\n",
       "      <td>0.0</td>\n",
       "      <td>0.00</td>\n",
       "      <td>1.00</td>\n",
       "      <td>1.00</td>\n",
       "      <td>1.0</td>\n",
       "    </tr>\n",
       "    <tr>\n",
       "      <th>review_scores_rating</th>\n",
       "      <td>57389.0</td>\n",
       "      <td>94.07</td>\n",
       "      <td>7.84</td>\n",
       "      <td>20.0</td>\n",
       "      <td>92.00</td>\n",
       "      <td>96.00</td>\n",
       "      <td>100.00</td>\n",
       "      <td>100.0</td>\n",
       "    </tr>\n",
       "    <tr>\n",
       "      <th>bedrooms</th>\n",
       "      <td>74019.0</td>\n",
       "      <td>1.27</td>\n",
       "      <td>0.85</td>\n",
       "      <td>0.0</td>\n",
       "      <td>1.00</td>\n",
       "      <td>1.00</td>\n",
       "      <td>1.00</td>\n",
       "      <td>10.0</td>\n",
       "    </tr>\n",
       "    <tr>\n",
       "      <th>beds</th>\n",
       "      <td>73980.0</td>\n",
       "      <td>1.71</td>\n",
       "      <td>1.25</td>\n",
       "      <td>0.0</td>\n",
       "      <td>1.00</td>\n",
       "      <td>1.00</td>\n",
       "      <td>2.00</td>\n",
       "      <td>18.0</td>\n",
       "    </tr>\n",
       "    <tr>\n",
       "      <th>log_price</th>\n",
       "      <td>74111.0</td>\n",
       "      <td>4.78</td>\n",
       "      <td>0.72</td>\n",
       "      <td>0.0</td>\n",
       "      <td>4.32</td>\n",
       "      <td>4.71</td>\n",
       "      <td>5.22</td>\n",
       "      <td>7.6</td>\n",
       "    </tr>\n",
       "  </tbody>\n",
       "</table>\n",
       "</div>"
      ],
      "text/plain": [
       "                        count   mean   std   min    25%    50%     75%    max\n",
       "accommodates          74108.0   3.16  2.15   1.0   2.00   2.00    4.00   16.0\n",
       "bathrooms             73908.0   1.24  0.58   0.0   1.00   1.00    1.00    8.0\n",
       "cleaning_fee          74107.0   0.73  0.44   0.0   0.00   1.00    1.00    1.0\n",
       "review_scores_rating  57389.0  94.07  7.84  20.0  92.00  96.00  100.00  100.0\n",
       "bedrooms              74019.0   1.27  0.85   0.0   1.00   1.00    1.00   10.0\n",
       "beds                  73980.0   1.71  1.25   0.0   1.00   1.00    2.00   18.0\n",
       "log_price             74111.0   4.78  0.72   0.0   4.32   4.71    5.22    7.6"
      ]
     },
     "execution_count": 23,
     "metadata": {},
     "output_type": "execute_result"
    }
   ],
   "source": [
    "round(df.drop('id',axis=1).describe(),2).T"
   ]
  },
  {
   "cell_type": "code",
   "execution_count": 27,
   "id": "f2625c0e",
   "metadata": {},
   "outputs": [
    {
     "data": {
      "text/plain": [
       "3"
      ]
     },
     "execution_count": 27,
     "metadata": {},
     "output_type": "execute_result"
    }
   ],
   "source": [
    "df['cancellation_policy'].nunique()"
   ]
  },
  {
   "cell_type": "code",
   "execution_count": 33,
   "id": "f05cbf5b",
   "metadata": {},
   "outputs": [
    {
     "data": {
      "text/plain": [
       "cancellation_policy\n",
       "strict      32500\n",
       "flexible    22543\n",
       "moderate    19060\n",
       "Name: count, dtype: int64"
      ]
     },
     "execution_count": 33,
     "metadata": {},
     "output_type": "execute_result"
    }
   ],
   "source": [
    "df['cancellation_policy'].value_counts()"
   ]
  },
  {
   "cell_type": "code",
   "execution_count": 34,
   "id": "c6be7717",
   "metadata": {},
   "outputs": [
    {
     "name": "stdout",
     "output_type": "stream",
     "text": [
      "ROOM_TYPE : 3\n",
      "\n",
      "room_type\n",
      "Entire home/apt    41308\n",
      "Private room       30635\n",
      "Shared room         2163\n",
      "Name: count, dtype: int64\n",
      "\n",
      "CANCELLATION_POLICY : 3\n",
      "\n",
      "cancellation_policy\n",
      "strict      32500\n",
      "flexible    22543\n",
      "moderate    19060\n",
      "Name: count, dtype: int64\n",
      "\n",
      "INSTANT_BOOKABLE : 3\n",
      "\n",
      "instant_bookable\n",
      "f    54660\n",
      "t    19451\n",
      "Name: count, dtype: int64\n",
      "\n"
     ]
    }
   ],
   "source": [
    "for column in df.columns:\n",
    "    if df[column].dtype == 'object':\n",
    "        print(column.upper(),':', df['room_type'].nunique())\n",
    "        print()\n",
    "        print(df[column].value_counts())\n",
    "        print()"
   ]
  },
  {
   "cell_type": "code",
   "execution_count": 35,
   "id": "0b9bc670",
   "metadata": {},
   "outputs": [
    {
     "data": {
      "text/html": [
       "<div>\n",
       "<style scoped>\n",
       "    .dataframe tbody tr th:only-of-type {\n",
       "        vertical-align: middle;\n",
       "    }\n",
       "\n",
       "    .dataframe tbody tr th {\n",
       "        vertical-align: top;\n",
       "    }\n",
       "\n",
       "    .dataframe thead th {\n",
       "        text-align: right;\n",
       "    }\n",
       "</style>\n",
       "<table border=\"1\" class=\"dataframe\">\n",
       "  <thead>\n",
       "    <tr style=\"text-align: right;\">\n",
       "      <th></th>\n",
       "      <th>id</th>\n",
       "      <th>room_type</th>\n",
       "      <th>accommodates</th>\n",
       "      <th>bathrooms</th>\n",
       "      <th>cancellation_policy</th>\n",
       "      <th>cleaning_fee</th>\n",
       "      <th>instant_bookable</th>\n",
       "      <th>review_scores_rating</th>\n",
       "      <th>bedrooms</th>\n",
       "      <th>beds</th>\n",
       "      <th>log_price</th>\n",
       "    </tr>\n",
       "  </thead>\n",
       "  <tbody>\n",
       "    <tr>\n",
       "      <th>0</th>\n",
       "      <td>6901257</td>\n",
       "      <td>Entire home/apt</td>\n",
       "      <td>3.0</td>\n",
       "      <td>1.0</td>\n",
       "      <td>strict</td>\n",
       "      <td>1.0</td>\n",
       "      <td>f</td>\n",
       "      <td>100.0</td>\n",
       "      <td>1.0</td>\n",
       "      <td>1.0</td>\n",
       "      <td>5.010635</td>\n",
       "    </tr>\n",
       "    <tr>\n",
       "      <th>1</th>\n",
       "      <td>6304928</td>\n",
       "      <td>Entire home/apt</td>\n",
       "      <td>7.0</td>\n",
       "      <td>1.0</td>\n",
       "      <td>strict</td>\n",
       "      <td>1.0</td>\n",
       "      <td>t</td>\n",
       "      <td>93.0</td>\n",
       "      <td>3.0</td>\n",
       "      <td>3.0</td>\n",
       "      <td>5.129899</td>\n",
       "    </tr>\n",
       "    <tr>\n",
       "      <th>2</th>\n",
       "      <td>7919400</td>\n",
       "      <td>Entire home/apt</td>\n",
       "      <td>5.0</td>\n",
       "      <td>1.0</td>\n",
       "      <td>moderate</td>\n",
       "      <td>1.0</td>\n",
       "      <td>t</td>\n",
       "      <td>92.0</td>\n",
       "      <td>1.0</td>\n",
       "      <td>3.0</td>\n",
       "      <td>4.976734</td>\n",
       "    </tr>\n",
       "    <tr>\n",
       "      <th>3</th>\n",
       "      <td>13418779</td>\n",
       "      <td>Entire home/apt</td>\n",
       "      <td>4.0</td>\n",
       "      <td>1.0</td>\n",
       "      <td>flexible</td>\n",
       "      <td>1.0</td>\n",
       "      <td>f</td>\n",
       "      <td>NaN</td>\n",
       "      <td>2.0</td>\n",
       "      <td>2.0</td>\n",
       "      <td>6.620073</td>\n",
       "    </tr>\n",
       "    <tr>\n",
       "      <th>4</th>\n",
       "      <td>3808709</td>\n",
       "      <td>Entire home/apt</td>\n",
       "      <td>2.0</td>\n",
       "      <td>1.0</td>\n",
       "      <td>moderate</td>\n",
       "      <td>1.0</td>\n",
       "      <td>t</td>\n",
       "      <td>40.0</td>\n",
       "      <td>0.0</td>\n",
       "      <td>1.0</td>\n",
       "      <td>4.744932</td>\n",
       "    </tr>\n",
       "    <tr>\n",
       "      <th>...</th>\n",
       "      <td>...</td>\n",
       "      <td>...</td>\n",
       "      <td>...</td>\n",
       "      <td>...</td>\n",
       "      <td>...</td>\n",
       "      <td>...</td>\n",
       "      <td>...</td>\n",
       "      <td>...</td>\n",
       "      <td>...</td>\n",
       "      <td>...</td>\n",
       "      <td>...</td>\n",
       "    </tr>\n",
       "    <tr>\n",
       "      <th>74106</th>\n",
       "      <td>14549287</td>\n",
       "      <td>Private room</td>\n",
       "      <td>1.0</td>\n",
       "      <td>1.0</td>\n",
       "      <td>flexible</td>\n",
       "      <td>0.0</td>\n",
       "      <td>f</td>\n",
       "      <td>NaN</td>\n",
       "      <td>1.0</td>\n",
       "      <td>1.0</td>\n",
       "      <td>4.605170</td>\n",
       "    </tr>\n",
       "    <tr>\n",
       "      <th>74107</th>\n",
       "      <td>13281809</td>\n",
       "      <td>Entire home/apt</td>\n",
       "      <td>4.0</td>\n",
       "      <td>2.0</td>\n",
       "      <td>moderate</td>\n",
       "      <td>1.0</td>\n",
       "      <td>f</td>\n",
       "      <td>93.0</td>\n",
       "      <td>2.0</td>\n",
       "      <td>4.0</td>\n",
       "      <td>5.043425</td>\n",
       "    </tr>\n",
       "    <tr>\n",
       "      <th>74108</th>\n",
       "      <td>18688039</td>\n",
       "      <td>Entire home/apt</td>\n",
       "      <td>5.0</td>\n",
       "      <td>1.0</td>\n",
       "      <td>moderate</td>\n",
       "      <td>1.0</td>\n",
       "      <td>t</td>\n",
       "      <td>94.0</td>\n",
       "      <td>2.0</td>\n",
       "      <td>2.0</td>\n",
       "      <td>5.220356</td>\n",
       "    </tr>\n",
       "    <tr>\n",
       "      <th>74109</th>\n",
       "      <td>17045948</td>\n",
       "      <td>Entire home/apt</td>\n",
       "      <td>2.0</td>\n",
       "      <td>1.0</td>\n",
       "      <td>strict</td>\n",
       "      <td>1.0</td>\n",
       "      <td>t</td>\n",
       "      <td>NaN</td>\n",
       "      <td>0.0</td>\n",
       "      <td>2.0</td>\n",
       "      <td>5.273000</td>\n",
       "    </tr>\n",
       "    <tr>\n",
       "      <th>74110</th>\n",
       "      <td>3534845</td>\n",
       "      <td>Entire home/apt</td>\n",
       "      <td>4.0</td>\n",
       "      <td>1.0</td>\n",
       "      <td>moderate</td>\n",
       "      <td>0.0</td>\n",
       "      <td>f</td>\n",
       "      <td>96.0</td>\n",
       "      <td>1.0</td>\n",
       "      <td>2.0</td>\n",
       "      <td>4.852030</td>\n",
       "    </tr>\n",
       "  </tbody>\n",
       "</table>\n",
       "<p>74111 rows × 11 columns</p>\n",
       "</div>"
      ],
      "text/plain": [
       "             id        room_type  accommodates  bathrooms cancellation_policy   \n",
       "0       6901257  Entire home/apt           3.0        1.0              strict  \\\n",
       "1       6304928  Entire home/apt           7.0        1.0              strict   \n",
       "2       7919400  Entire home/apt           5.0        1.0            moderate   \n",
       "3      13418779  Entire home/apt           4.0        1.0            flexible   \n",
       "4       3808709  Entire home/apt           2.0        1.0            moderate   \n",
       "...         ...              ...           ...        ...                 ...   \n",
       "74106  14549287     Private room           1.0        1.0            flexible   \n",
       "74107  13281809  Entire home/apt           4.0        2.0            moderate   \n",
       "74108  18688039  Entire home/apt           5.0        1.0            moderate   \n",
       "74109  17045948  Entire home/apt           2.0        1.0              strict   \n",
       "74110   3534845  Entire home/apt           4.0        1.0            moderate   \n",
       "\n",
       "       cleaning_fee instant_bookable  review_scores_rating  bedrooms  beds   \n",
       "0               1.0                f                 100.0       1.0   1.0  \\\n",
       "1               1.0                t                  93.0       3.0   3.0   \n",
       "2               1.0                t                  92.0       1.0   3.0   \n",
       "3               1.0                f                   NaN       2.0   2.0   \n",
       "4               1.0                t                  40.0       0.0   1.0   \n",
       "...             ...              ...                   ...       ...   ...   \n",
       "74106           0.0                f                   NaN       1.0   1.0   \n",
       "74107           1.0                f                  93.0       2.0   4.0   \n",
       "74108           1.0                t                  94.0       2.0   2.0   \n",
       "74109           1.0                t                   NaN       0.0   2.0   \n",
       "74110           0.0                f                  96.0       1.0   2.0   \n",
       "\n",
       "       log_price  \n",
       "0       5.010635  \n",
       "1       5.129899  \n",
       "2       4.976734  \n",
       "3       6.620073  \n",
       "4       4.744932  \n",
       "...          ...  \n",
       "74106   4.605170  \n",
       "74107   5.043425  \n",
       "74108   5.220356  \n",
       "74109   5.273000  \n",
       "74110   4.852030  \n",
       "\n",
       "[74111 rows x 11 columns]"
      ]
     },
     "execution_count": 35,
     "metadata": {},
     "output_type": "execute_result"
    }
   ],
   "source": [
    "df.drop_duplicates()"
   ]
  },
  {
   "cell_type": "markdown",
   "id": "50c25496",
   "metadata": {},
   "source": [
    "## Counting the Null Values"
   ]
  },
  {
   "cell_type": "code",
   "execution_count": 12,
   "id": "10ddd61a",
   "metadata": {},
   "outputs": [
    {
     "data": {
      "text/plain": [
       "id                          0\n",
       "room_type                   5\n",
       "accommodates                3\n",
       "bathrooms                 203\n",
       "cancellation_policy         8\n",
       "cleaning_fee                4\n",
       "instant_bookable            0\n",
       "review_scores_rating    16722\n",
       "bedrooms                   92\n",
       "beds                      131\n",
       "log_price                   0\n",
       "dtype: int64"
      ]
     },
     "execution_count": 12,
     "metadata": {},
     "output_type": "execute_result"
    }
   ],
   "source": [
    "df.isnull().sum()"
   ]
  },
  {
   "cell_type": "code",
   "execution_count": 45,
   "id": "ff44b3a4",
   "metadata": {},
   "outputs": [
    {
     "data": {
      "text/plain": [
       "id                       0.00\n",
       "room_type                0.01\n",
       "accommodates             0.00\n",
       "bathrooms                0.27\n",
       "cancellation_policy      0.01\n",
       "cleaning_fee             0.01\n",
       "instant_bookable         0.00\n",
       "review_scores_rating    22.56\n",
       "bedrooms                 0.12\n",
       "beds                     0.18\n",
       "log_price                0.00\n",
       "dtype: float64"
      ]
     },
     "execution_count": 45,
     "metadata": {},
     "output_type": "execute_result"
    }
   ],
   "source": [
    "round(df.isnull().sum() * 100/df.shape[0],2)"
   ]
  },
  {
   "cell_type": "code",
   "execution_count": 13,
   "id": "11ed8ea3",
   "metadata": {},
   "outputs": [],
   "source": [
    "df_mean = df.copy()"
   ]
  },
  {
   "cell_type": "code",
   "execution_count": 14,
   "id": "da72c7f8",
   "metadata": {},
   "outputs": [],
   "source": [
    "df_median = df.copy()\n",
    "df_pred = df.copy()"
   ]
  },
  {
   "cell_type": "markdown",
   "id": "aaeb7906",
   "metadata": {},
   "source": [
    "## Mean Imputation"
   ]
  },
  {
   "cell_type": "code",
   "execution_count": 16,
   "id": "3e4b0c73",
   "metadata": {},
   "outputs": [],
   "source": [
    "cat = []\n",
    "num = []\n",
    "for i in df_mean.columns:\n",
    "    if df_mean[i].dtype == 'object':\n",
    "        cat.append(i)\n",
    "    else:\n",
    "        num.append(i)    "
   ]
  },
  {
   "cell_type": "code",
   "execution_count": 17,
   "id": "6a5f5fe4",
   "metadata": {},
   "outputs": [
    {
     "data": {
      "text/plain": [
       "['room_type', 'cancellation_policy', 'instant_bookable']"
      ]
     },
     "execution_count": 17,
     "metadata": {},
     "output_type": "execute_result"
    }
   ],
   "source": [
    "cat"
   ]
  },
  {
   "cell_type": "code",
   "execution_count": 18,
   "id": "01b36820",
   "metadata": {},
   "outputs": [
    {
     "data": {
      "text/plain": [
       "['id',\n",
       " 'accommodates',\n",
       " 'bathrooms',\n",
       " 'cleaning_fee',\n",
       " 'review_scores_rating',\n",
       " 'bedrooms',\n",
       " 'beds',\n",
       " 'log_price']"
      ]
     },
     "execution_count": 18,
     "metadata": {},
     "output_type": "execute_result"
    }
   ],
   "source": [
    "num"
   ]
  },
  {
   "cell_type": "code",
   "execution_count": 19,
   "id": "bc94fe7c",
   "metadata": {},
   "outputs": [],
   "source": [
    "for column in df_mean.columns:\n",
    "    if df_mean[column].dtype != 'object':\n",
    "        mean = df_mean[column].mean()\n",
    "        df_mean[column] = df_mean[column].fillna(mean)"
   ]
  },
  {
   "cell_type": "code",
   "execution_count": 21,
   "id": "2ce9a5b4",
   "metadata": {},
   "outputs": [
    {
     "data": {
      "text/plain": [
       "id                      0\n",
       "room_type               5\n",
       "accommodates            0\n",
       "bathrooms               0\n",
       "cancellation_policy     8\n",
       "cleaning_fee            0\n",
       "instant_bookable        0\n",
       "review_scores_rating    0\n",
       "bedrooms                0\n",
       "beds                    0\n",
       "log_price               0\n",
       "dtype: int64"
      ]
     },
     "execution_count": 21,
     "metadata": {},
     "output_type": "execute_result"
    }
   ],
   "source": [
    "df_mean.isnull().sum()"
   ]
  },
  {
   "cell_type": "code",
   "execution_count": 28,
   "id": "9154ef14",
   "metadata": {},
   "outputs": [],
   "source": [
    "for column in df_mean.columns:\n",
    "    if df_mean[column].dtype == 'object':\n",
    "        mode = df[column].mode()\n",
    "        df_mean[column] = df_mean[column].fillna(mode)"
   ]
  },
  {
   "cell_type": "code",
   "execution_count": 33,
   "id": "e1e9be88",
   "metadata": {},
   "outputs": [
    {
     "data": {
      "text/plain": [
       "id                      0\n",
       "room_type               0\n",
       "accommodates            0\n",
       "bathrooms               0\n",
       "cancellation_policy     0\n",
       "cleaning_fee            0\n",
       "instant_bookable        0\n",
       "review_scores_rating    0\n",
       "bedrooms                0\n",
       "beds                    0\n",
       "log_price               0\n",
       "dtype: int64"
      ]
     },
     "execution_count": 33,
     "metadata": {},
     "output_type": "execute_result"
    }
   ],
   "source": [
    "df_mean.isnull().sum()"
   ]
  },
  {
   "cell_type": "code",
   "execution_count": 30,
   "id": "7f894fe3",
   "metadata": {},
   "outputs": [],
   "source": [
    "df_mean['room_type'] = df_mean['room_type'].fillna('Entire home/apt')"
   ]
  },
  {
   "cell_type": "code",
   "execution_count": 32,
   "id": "e5d93194",
   "metadata": {},
   "outputs": [],
   "source": [
    "df_mean['cancellation_policy'] = df_mean['cancellation_policy'].fillna('strict')"
   ]
  },
  {
   "cell_type": "markdown",
   "id": "3b002eef",
   "metadata": {},
   "source": [
    "## Median Imputation"
   ]
  },
  {
   "cell_type": "code",
   "execution_count": 34,
   "id": "8b3ba8d3",
   "metadata": {},
   "outputs": [],
   "source": [
    "for column in df_median.columns:\n",
    "    if df_median[column].dtype != 'object':\n",
    "        median = df_median[column].median()\n",
    "        df_median[column] = df_median[column].fillna(median)"
   ]
  },
  {
   "cell_type": "code",
   "execution_count": 35,
   "id": "f593a7bb",
   "metadata": {},
   "outputs": [],
   "source": [
    "for column in df_median.columns:\n",
    "    if df_median[column].dtype == 'object':\n",
    "        mode = df_median[column].mode()[0]\n",
    "        df_median[column] = df_median[column].fillna(mode)"
   ]
  },
  {
   "cell_type": "code",
   "execution_count": 36,
   "id": "5d196538",
   "metadata": {},
   "outputs": [
    {
     "data": {
      "text/plain": [
       "id                      0\n",
       "room_type               0\n",
       "accommodates            0\n",
       "bathrooms               0\n",
       "cancellation_policy     0\n",
       "cleaning_fee            0\n",
       "instant_bookable        0\n",
       "review_scores_rating    0\n",
       "bedrooms                0\n",
       "beds                    0\n",
       "log_price               0\n",
       "dtype: int64"
      ]
     },
     "execution_count": 36,
     "metadata": {},
     "output_type": "execute_result"
    }
   ],
   "source": [
    "df_median.isnull().sum()"
   ]
  },
  {
   "cell_type": "code",
   "execution_count": null,
   "id": "25b32790",
   "metadata": {},
   "outputs": [],
   "source": []
  }
 ],
 "metadata": {
  "kernelspec": {
   "display_name": "Python 3 (ipykernel)",
   "language": "python",
   "name": "python3"
  },
  "language_info": {
   "codemirror_mode": {
    "name": "ipython",
    "version": 3
   },
   "file_extension": ".py",
   "mimetype": "text/x-python",
   "name": "python",
   "nbconvert_exporter": "python",
   "pygments_lexer": "ipython3",
   "version": "3.9.13"
  }
 },
 "nbformat": 4,
 "nbformat_minor": 5
}
